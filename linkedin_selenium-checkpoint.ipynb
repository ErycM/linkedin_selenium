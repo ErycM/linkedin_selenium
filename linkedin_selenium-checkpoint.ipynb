{
 "cells": [
  {
   "cell_type": "code",
   "execution_count": 67,
   "metadata": {},
   "outputs": [
    {
     "name": "stdout",
     "output_type": "stream",
     "text": [
      "Requirement already satisfied: webdriver-manager in d:\\anaconda3\\lib\\site-packages (3.4.2)\n",
      "Requirement already satisfied: requests in d:\\anaconda3\\lib\\site-packages (from webdriver-manager) (2.24.0)\n",
      "Requirement already satisfied: crayons in d:\\anaconda3\\lib\\site-packages (from webdriver-manager) (0.4.0)\n",
      "Requirement already satisfied: configparser in d:\\anaconda3\\lib\\site-packages (from webdriver-manager) (5.0.2)\n",
      "Requirement already satisfied: idna<3,>=2.5 in d:\\anaconda3\\lib\\site-packages (from requests->webdriver-manager) (2.10)\n",
      "Requirement already satisfied: urllib3!=1.25.0,!=1.25.1,<1.26,>=1.21.1 in d:\\anaconda3\\lib\\site-packages (from requests->webdriver-manager) (1.25.11)\n",
      "Requirement already satisfied: chardet<4,>=3.0.2 in d:\\anaconda3\\lib\\site-packages (from requests->webdriver-manager) (3.0.4)\n",
      "Requirement already satisfied: certifi>=2017.4.17 in d:\\anaconda3\\lib\\site-packages (from requests->webdriver-manager) (2020.6.20)\n",
      "Requirement already satisfied: colorama in d:\\anaconda3\\lib\\site-packages (from crayons->webdriver-manager) (0.4.4)\n"
     ]
    }
   ],
   "source": [
    "!pip install webdriver-manager\n",
    "from selenium import webdriver\n",
    "from selenium.common.exceptions import NoSuchElementException        \n",
    "from webdriver_manager.chrome import ChromeDriverManager\n",
    "from selenium.webdriver.common.keys import Keys\n",
    "import time\n",
    "import json"
   ]
  },
  {
   "cell_type": "code",
   "execution_count": 80,
   "metadata": {},
   "outputs": [
    {
     "name": "stderr",
     "output_type": "stream",
     "text": [
      "\n",
      "\n",
      "====== WebDriver manager ======\n",
      "Current google-chrome version is 91.0.4472\n",
      "Get LATEST driver version for 91.0.4472\n",
      "Driver [C:\\Users\\erycm\\.wdm\\drivers\\chromedriver\\win32\\91.0.4472.19\\chromedriver.exe] found in cache\n"
     ]
    },
    {
     "name": "stdout",
     "output_type": "stream",
     "text": [
      "end\n"
     ]
    },
    {
     "ename": "SyntaxError",
     "evalue": "'return' outside function (<ipython-input-80-e6f925d91bc0>, line 43)",
     "output_type": "error",
     "traceback": [
      "\u001b[1;36m  File \u001b[1;32m\"<ipython-input-80-e6f925d91bc0>\"\u001b[1;36m, line \u001b[1;32m43\u001b[0m\n\u001b[1;33m    return\u001b[0m\n\u001b[1;37m    ^\u001b[0m\n\u001b[1;31mSyntaxError\u001b[0m\u001b[1;31m:\u001b[0m 'return' outside function\n"
     ]
    }
   ],
   "source": [
    "def check_exists_by_class_name(driver, class_name):\n",
    "    try:\n",
    "        driver.find_element_by_class_name(class_name)\n",
    "    except NoSuchElementException:\n",
    "        return False\n",
    "    return True\n",
    "\n",
    "\n",
    "driver = webdriver.Chrome(ChromeDriverManager().install())\n",
    "driver.get('https://www.linkedin.com/jobs/')\n",
    "#driver.maximize_window()\n",
    "\n",
    "\n",
    "job_name = driver.find_element_by_name(\"keywords\")\n",
    "job_name.send_keys('cientista de dados')\n",
    "#job_name.send_keys(Keys.ENTER)\n",
    "job_location = driver.find_element_by_name(\"location\")\n",
    "job_location.clear()\n",
    "job_location.send_keys('Brazil')\n",
    "job_location.send_keys(Keys.ENTER)\n",
    "\n",
    "\n",
    "\n",
    "jobs_titles = driver.find_elements_by_css_selector(\"div.base-search-card__info\")\n",
    "            \n",
    "dic_jobs = {}\n",
    "for id,value in enumerate(jobs_titles):\n",
    "    job = value.text.split(\"\\n\")\n",
    "\n",
    "    dic_jobs[id] = {\n",
    "        \"vaga\": job[0],\n",
    "        \"empresa\": job[1],\n",
    "        \"cidade\": job[2],\n",
    "        \"data\": job[3],\n",
    "    }\n",
    "\n",
    "\n",
    "with open('./jobs_linkedin.json', 'w') as outfile:\n",
    "    json.dump(dic_jobs, outfile)\n",
    "\n",
    "print(\"end\")\n",
    "\n",
    "return\n",
    "\n",
    "\n",
    "while True:\n",
    "    driver.execute_script(\"window.scrollTo(0, document.body.scrollHeight);\")\n",
    "    time.sleep(2.5)\n",
    "    \n",
    "    check_see_more = check_exists_by_class_name(driver,\"infinite-scroller__show-more-button--visible\")\n",
    "    count_elements = len(driver.find_elements_by_css_selector(\"div.base-search-card__info\"))\n",
    "    \n",
    "    if(check_see_more):\n",
    "        job_see_more = driver.find_element_by_class_name(\"infinite-scroller__show-more-button--visible\")\n",
    "        job_see_more.send_keys(Keys.ENTER)\n",
    "        \n",
    "        time.sleep(2.5)\n",
    "        jobs_titles = driver.find_elements_by_css_selector(\"div.base-search-card__info\")\n",
    "        count_after_see_more = len(jobs_titles)\n",
    "        \n",
    "        if count_elements == count_after_see_more:\n",
    "            \n",
    "            dic_jobs = {}\n",
    "            for id,value in enumerate(jobs_titles):\n",
    "                job = value.text.split(\"\\n\")\n",
    "                \n",
    "                dic_jobs[id] = {\n",
    "                    \"vaga\": job[0],\n",
    "                    \"empresa\": job[1],\n",
    "                    \"cidade\": job[2],\n",
    "                    \"data\": job[3],\n",
    "                }\n",
    "                \n",
    "            \n",
    "            with open('C:/Users/erycm/Documents/ciencia dos dados/awari/linkedin_selenium/linkedin_selenium/jobs_linkedin.txt', 'w') as file:\n",
    "                file.write(json.dumps(dic_jobs))\n",
    "            \n",
    "            print(\"end\")\n",
    "            \n",
    "            break;\n",
    "            \n",
    "        "
   ]
  },
  {
   "cell_type": "code",
   "execution_count": null,
   "metadata": {},
   "outputs": [],
   "source": []
  },
  {
   "cell_type": "code",
   "execution_count": null,
   "metadata": {},
   "outputs": [],
   "source": []
  }
 ],
 "metadata": {
  "kernelspec": {
   "display_name": "Python 3",
   "language": "python",
   "name": "python3"
  },
  "language_info": {
   "codemirror_mode": {
    "name": "ipython",
    "version": 3
   },
   "file_extension": ".py",
   "mimetype": "text/x-python",
   "name": "python",
   "nbconvert_exporter": "python",
   "pygments_lexer": "ipython3",
   "version": "3.8.5"
  }
 },
 "nbformat": 4,
 "nbformat_minor": 4
}
